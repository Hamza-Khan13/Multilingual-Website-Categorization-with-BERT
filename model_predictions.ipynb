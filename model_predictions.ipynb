{
 "cells": [
  {
   "cell_type": "code",
   "execution_count": null,
   "metadata": {},
   "outputs": [],
   "source": [
    "from transformers import AutoModelForSequenceClassification, AutoTokenizer\n",
    "import pandas as pd\n",
    "import torch\n",
    "from concurrent.futures import ThreadPoolExecutor\n",
    "import numpy as np"
   ]
  },
  {
   "cell_type": "code",
   "execution_count": 2,
   "metadata": {},
   "outputs": [
    {
     "data": {
      "text/plain": [
       "BertForSequenceClassification(\n",
       "  (bert): BertModel(\n",
       "    (embeddings): BertEmbeddings(\n",
       "      (word_embeddings): Embedding(105879, 768, padding_idx=0)\n",
       "      (position_embeddings): Embedding(512, 768)\n",
       "      (token_type_embeddings): Embedding(2, 768)\n",
       "      (LayerNorm): LayerNorm((768,), eps=1e-12, elementwise_affine=True)\n",
       "      (dropout): Dropout(p=0.1, inplace=False)\n",
       "    )\n",
       "    (encoder): BertEncoder(\n",
       "      (layer): ModuleList(\n",
       "        (0-11): 12 x BertLayer(\n",
       "          (attention): BertAttention(\n",
       "            (self): BertSelfAttention(\n",
       "              (query): Linear(in_features=768, out_features=768, bias=True)\n",
       "              (key): Linear(in_features=768, out_features=768, bias=True)\n",
       "              (value): Linear(in_features=768, out_features=768, bias=True)\n",
       "              (dropout): Dropout(p=0.1, inplace=False)\n",
       "            )\n",
       "            (output): BertSelfOutput(\n",
       "              (dense): Linear(in_features=768, out_features=768, bias=True)\n",
       "              (LayerNorm): LayerNorm((768,), eps=1e-12, elementwise_affine=True)\n",
       "              (dropout): Dropout(p=0.1, inplace=False)\n",
       "            )\n",
       "          )\n",
       "          (intermediate): BertIntermediate(\n",
       "            (dense): Linear(in_features=768, out_features=3072, bias=True)\n",
       "            (intermediate_act_fn): GELUActivation()\n",
       "          )\n",
       "          (output): BertOutput(\n",
       "            (dense): Linear(in_features=3072, out_features=768, bias=True)\n",
       "            (LayerNorm): LayerNorm((768,), eps=1e-12, elementwise_affine=True)\n",
       "            (dropout): Dropout(p=0.1, inplace=False)\n",
       "          )\n",
       "        )\n",
       "      )\n",
       "    )\n",
       "    (pooler): BertPooler(\n",
       "      (dense): Linear(in_features=768, out_features=768, bias=True)\n",
       "      (activation): Tanh()\n",
       "    )\n",
       "  )\n",
       "  (dropout): Dropout(p=0.1, inplace=False)\n",
       "  (classifier): Linear(in_features=768, out_features=56, bias=True)\n",
       ")"
      ]
     },
     "execution_count": 2,
     "metadata": {},
     "output_type": "execute_result"
    }
   ],
   "source": [
    "# Load the model and optimizer from the checkpoint\n",
    "model_path = 'final_model/'\n",
    "\n",
    "# Load tokenizer\n",
    "tokenizer = AutoTokenizer.from_pretrained(model_path)\n",
    "\n",
    "# Load model\n",
    "model = AutoModelForSequenceClassification.from_pretrained(model_path)\n",
    "\n",
    "# Load model to device\n",
    "device = torch.device(\"cuda\" if torch.cuda.is_available() else \"cpu\")\n",
    "model.to(device)"
   ]
  },
  {
   "cell_type": "code",
   "execution_count": null,
   "metadata": {},
   "outputs": [],
   "source": [
    "df = pd.read_excel(\"file_path\")"
   ]
  },
  {
   "cell_type": "code",
   "execution_count": 11,
   "metadata": {},
   "outputs": [
    {
     "data": {
      "text/html": [
       "<div>\n",
       "<style scoped>\n",
       "    .dataframe tbody tr th:only-of-type {\n",
       "        vertical-align: middle;\n",
       "    }\n",
       "\n",
       "    .dataframe tbody tr th {\n",
       "        vertical-align: top;\n",
       "    }\n",
       "\n",
       "    .dataframe thead th {\n",
       "        text-align: right;\n",
       "    }\n",
       "</style>\n",
       "<table border=\"1\" class=\"dataframe\">\n",
       "  <thead>\n",
       "    <tr style=\"text-align: right;\">\n",
       "      <th></th>\n",
       "      <th>Domains</th>\n",
       "      <th>Web_Text</th>\n",
       "    </tr>\n",
       "  </thead>\n",
       "  <tbody>\n",
       "    <tr>\n",
       "      <th>0</th>\n",
       "      <td>news.yahoo.com</td>\n",
       "      <td>yahoo news latest breaking news headlines live...</td>\n",
       "    </tr>\n",
       "    <tr>\n",
       "      <th>1</th>\n",
       "      <td>internationalinvestment.net</td>\n",
       "      <td>computing uk lead source analysis business tec...</td>\n",
       "    </tr>\n",
       "    <tr>\n",
       "      <th>2</th>\n",
       "      <td>cysec.gov.cy</td>\n",
       "      <td>επιτροπή κεφαλαιαγοράς κύπρου η αποστολή μας ε...</td>\n",
       "    </tr>\n",
       "    <tr>\n",
       "      <th>3</th>\n",
       "      <td>find-and-update.company-information.service.go...</td>\n",
       "      <td>find update company information company inform...</td>\n",
       "    </tr>\n",
       "    <tr>\n",
       "      <th>4</th>\n",
       "      <td>laverdadpa.com</td>\n",
       "      <td>la verdad panamá es una página de noticiassala...</td>\n",
       "    </tr>\n",
       "    <tr>\n",
       "      <th>...</th>\n",
       "      <td>...</td>\n",
       "      <td>...</td>\n",
       "    </tr>\n",
       "    <tr>\n",
       "      <th>13383</th>\n",
       "      <td>hipertextual.com</td>\n",
       "      <td>hipertextual tecnología ciencia y cultura digi...</td>\n",
       "    </tr>\n",
       "    <tr>\n",
       "      <th>13384</th>\n",
       "      <td>mdzol.com</td>\n",
       "      <td>mdz onlineel diario más importante de la argen...</td>\n",
       "    </tr>\n",
       "    <tr>\n",
       "      <th>13385</th>\n",
       "      <td>tycsports.com</td>\n",
       "      <td>tyc sports las noticia de deportes del canal e...</td>\n",
       "    </tr>\n",
       "    <tr>\n",
       "      <th>13386</th>\n",
       "      <td>a24films.com</td>\n",
       "      <td>a24the company talk uncut gems midsommar lady ...</td>\n",
       "    </tr>\n",
       "    <tr>\n",
       "      <th>13387</th>\n",
       "      <td>losandesri.com</td>\n",
       "      <td>peruvian bolivian cuisine los andes restaurant...</td>\n",
       "    </tr>\n",
       "  </tbody>\n",
       "</table>\n",
       "<p>10200 rows × 2 columns</p>\n",
       "</div>"
      ],
      "text/plain": [
       "                                                 Domains  \\\n",
       "0                                         news.yahoo.com   \n",
       "1                            internationalinvestment.net   \n",
       "2                                           cysec.gov.cy   \n",
       "3      find-and-update.company-information.service.go...   \n",
       "4                                         laverdadpa.com   \n",
       "...                                                  ...   \n",
       "13383                                   hipertextual.com   \n",
       "13384                                          mdzol.com   \n",
       "13385                                      tycsports.com   \n",
       "13386                                       a24films.com   \n",
       "13387                                     losandesri.com   \n",
       "\n",
       "                                                Web_Text  \n",
       "0      yahoo news latest breaking news headlines live...  \n",
       "1      computing uk lead source analysis business tec...  \n",
       "2      επιτροπή κεφαλαιαγοράς κύπρου η αποστολή μας ε...  \n",
       "3      find update company information company inform...  \n",
       "4      la verdad panamá es una página de noticiassala...  \n",
       "...                                                  ...  \n",
       "13383  hipertextual tecnología ciencia y cultura digi...  \n",
       "13384  mdz onlineel diario más importante de la argen...  \n",
       "13385  tyc sports las noticia de deportes del canal e...  \n",
       "13386  a24the company talk uncut gems midsommar lady ...  \n",
       "13387  peruvian bolivian cuisine los andes restaurant...  \n",
       "\n",
       "[10200 rows x 2 columns]"
      ]
     },
     "execution_count": 11,
     "metadata": {},
     "output_type": "execute_result"
    }
   ],
   "source": [
    "df"
   ]
  },
  {
   "cell_type": "code",
   "execution_count": 10,
   "metadata": {},
   "outputs": [],
   "source": [
    "df = df.dropna()"
   ]
  },
  {
   "cell_type": "code",
   "execution_count": null,
   "metadata": {},
   "outputs": [],
   "source": [
    "# Check for NaN values in 'Web_Text' and replace them with empty strings\n",
    "df['Web_Text'] = df['Web_Text'].apply(lambda x: ' '.join(str(x).split()[:1024]) if pd.notna(x) else '')\n",
    "\n",
    "#Remove \"http://\" from each value in the URL column\n",
    "#df['URL'] = df['URL'].str.replace('http://', '')\n"
   ]
  },
  {
   "cell_type": "code",
   "execution_count": 13,
   "metadata": {},
   "outputs": [],
   "source": [
    "# Function to process each row in parallel\n",
    "def process_row(website, web_text):\n",
    "    inputs = tokenizer(website, web_text, return_tensors=\"pt\", truncation=True, padding=True)\n",
    "    inputs = {key: val.to(device) for key, val in inputs.items()}\n",
    "    \n",
    "    with torch.no_grad():\n",
    "        outputs = model(**inputs)\n",
    "    \n",
    "    logits = outputs.logits\n",
    "    predicted_label = torch.argmax(logits, dim=1).cpu().item()\n",
    "    \n",
    "    return {'URL': website, 'Category': predicted_label}"
   ]
  },
  {
   "cell_type": "code",
   "execution_count": 14,
   "metadata": {},
   "outputs": [],
   "source": [
    "# Create a result_df with columns URL and Category (predicted label)\n",
    "new_data = pd.DataFrame({'website': df['Domains'], 'Web_Text': df['Web_Text']})\n",
    "\n",
    "# Number of threads\n",
    "num_threads = 8  # You can adjust this based on your system and resources\n",
    "\n",
    "# Create a ThreadPoolExecutor\n",
    "with ThreadPoolExecutor(max_workers=num_threads) as executor:\n",
    "    # Process each row in parallel\n",
    "    results = list(executor.map(process_row, new_data['website'], new_data['Web_Text']))\n",
    "\n",
    "# Concatenate the results into the final dataframe\n",
    "result_df = pd.concat([pd.DataFrame(results)], ignore_index=True)\n",
    "\n",
    "# Replace encoded values with original category using category_mapping.csv\n",
    "category_mapping = pd.read_csv('category_mapping.csv')\n",
    "result_df['Category'] = result_df['Category'].map(category_mapping.set_index('Encoded_Value')['Original_Category'])"
   ]
  },
  {
   "cell_type": "code",
   "execution_count": null,
   "metadata": {},
   "outputs": [],
   "source": []
  }
 ],
 "metadata": {
  "kernelspec": {
   "display_name": "base",
   "language": "python",
   "name": "python3"
  },
  "language_info": {
   "codemirror_mode": {
    "name": "ipython",
    "version": 3
   },
   "file_extension": ".py",
   "mimetype": "text/x-python",
   "name": "python",
   "nbconvert_exporter": "python",
   "pygments_lexer": "ipython3",
   "version": "3.10.11"
  }
 },
 "nbformat": 4,
 "nbformat_minor": 2
}
